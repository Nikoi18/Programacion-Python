{
 "cells": [
  {
   "cell_type": "markdown",
   "metadata": {},
   "source": [
    "# Ejercicios Modulo 2. Operadores\n",
    "\n",
    "Consideraciones a tener en cuenta: \n",
    "\n",
    "* Guardar este documento con el siguiente formato para su entrega: __M2_02_nombre_apellido1_apellido2__\n",
    "* Realizar los ejercicios con las herramientas vistas en las sesiones. Aún no hemos llegado a condicionales ni bucles\n",
    "* Comentar el código\n",
    "* Utilizar nombres de variables apropiados, si vais a guardar una nota, llamar a esa variable nota, no n o x"
   ]
  },
  {
   "cell_type": "markdown",
   "metadata": {},
   "source": [
    "## Ejercicios de operadores y expresiones"
   ]
  },
  {
   "cell_type": "markdown",
   "metadata": {},
   "source": [
    "**1) Crear 5 variables con 5 notas numéricas y realizar la media aritmética. Mostrar el resultado final con un mensaje como este: \"La nota media es 6.0\"**"
   ]
  },
  {
   "cell_type": "code",
   "execution_count": 2,
   "metadata": {},
   "outputs": [
    {
     "name": "stdin",
     "output_type": "stream",
     "text": [
      "Ingrese la primera nota: 10\n",
      "Ingrese la segunda nota: 10\n",
      "Ingrese la tercera nota: 10\n",
      "Ingrese la cuarta nota: 10\n",
      "Ingrese la quinta nota: 10\n"
     ]
    },
    {
     "name": "stdout",
     "output_type": "stream",
     "text": [
      "La nota media es: 10.0\n"
     ]
    }
   ],
   "source": [
    "# creo 5 variables donde el usuario coloca sus notas, luego se crea otra variable donde suma las 5 variables anteriores para\n",
    "# para luego uso la division entera y me imprima el resultado\n",
    "nota_1 = float(input(f\"Ingrese la primera nota:\"))\n",
    "nota_2 = float(input(f\"Ingrese la segunda nota:\"))\n",
    "nota_3 = float(input(f\"Ingrese la tercera nota:\"))\n",
    "nota_4 = float(input(f\"Ingrese la cuarta nota:\"))\n",
    "nota_5 = float(input(f\"Ingrese la quinta nota:\"))\n",
    "nota_media = float(nota_1 + nota_2 + nota_3 + nota_4 + nota_5)\n",
    "print (f\"La nota media es: {nota_media//5}\")"
   ]
  },
  {
   "cell_type": "markdown",
   "metadata": {},
   "source": [
    "**2) Busca en la documentación la forma correcta de redondear el siguiente resultado a tan solo 2 decimales: operacion = (365 / 12) * 14.7**"
   ]
  },
  {
   "cell_type": "code",
   "execution_count": null,
   "metadata": {},
   "outputs": [],
   "source": [
    "# aca cree una variable resolviendo la operacion y el resultado me da 2 decimales por eso usea el ROUND\n",
    "x = (365/12) * 14.7\n",
    "print (round(x, 2))"
   ]
  },
  {
   "cell_type": "markdown",
   "metadata": {},
   "source": [
    "**3) Crea dos variables que almacenen 2 strings (username y password). Realizar las siguientes comprobaciones utilizando operadores lógicos:**\n",
    "* Que la longitud de username sea mayor o igual que tres y menor que diez\n",
    "* Que la password sea igual a \"Tokio\" o que sea igual a \"Python\".\n",
    "<br>La salida por pantalla tiene que ser:\n",
    "    * **Username: True o False** (según se haya evaluado)\n",
    "    * **Password: True o False** (según se haya evaluado)"
   ]
  },
  {
   "cell_type": "code",
   "execution_count": 7,
   "metadata": {},
   "outputs": [
    {
     "name": "stdin",
     "output_type": "stream",
     "text": [
      "Ingrese su username: hola\n"
     ]
    },
    {
     "name": "stdout",
     "output_type": "stream",
     "text": [
      "La Longitud de username: 4\n",
      "La longitud de username es mayor o igual que 3: True\n",
      "La longitud de username es menor que 10: True\n"
     ]
    },
    {
     "name": "stdin",
     "output_type": "stream",
     "text": [
      "Ingrese su password: Python\n"
     ]
    },
    {
     "name": "stdout",
     "output_type": "stream",
     "text": [
      "Su password es: Python\n",
      "Su password es igual a Tokio: False y es igual a Python: True \n"
     ]
    }
   ],
   "source": [
    "#creo las variables username/password donde el usuario coloca su propia informacion, luego cree otra variable donde convierne \n",
    "#la longitud del username aso obtener un numero de lo cual me sirvio para poder hacer la comparativa de mayor o igual que, luego de eso\n",
    "#el usuario coloca su contraseña y despues le la comparo si es igual a Tokio o Python\n",
    "username = str (input(\"Ingrese su username:\"))\n",
    "longitud = len (username)\n",
    "print (f\"La Longitud de username: {longitud}\")\n",
    "longitud1 = longitud >= 3\n",
    "print (f\"La longitud de username es mayor o igual que 3: {longitud1}\")\n",
    "longitud2 = longitud <10\n",
    "print (f\"La longitud de username es menor que 10: {longitud2}\")\n",
    "password = str (input(\"Ingrese su password:\"))\n",
    "print (f\"Su password es: {password}\")\n",
    "print (f\"Su password es igual a Tokio: {password == 'Tokio'} y es igual a Python: {password == 'Python'} \")\n",
    "\n",
    "\n"
   ]
  },
  {
   "cell_type": "markdown",
   "metadata": {},
   "source": [
    "**4) Practiquemos con los operadores de asignación (=, +=, *=, etc.):**\n",
    "* Crea dos variables y asignales los números que quieras\n",
    "* Incrementale a num1 su valor en 1\n",
    "* Decrementale a num2 su valor en 2\n",
    "* Multiplica num1 por 3 y actualiza su valor\n",
    "* Dividide num2 por 2 y actualiza su valor\n",
    "* Muestra los resultados"
   ]
  },
  {
   "cell_type": "code",
   "execution_count": 23,
   "metadata": {},
   "outputs": [
    {
     "name": "stdin",
     "output_type": "stream",
     "text": [
      "Cual es el valor de num1: 10\n",
      "Cual es el valor de num2: 10\n"
     ]
    },
    {
     "name": "stdout",
     "output_type": "stream",
     "text": [
      "Se incrementa a num1 su valor a 1= 11.0 \n",
      "Se disminuye a num2 su valor en 2= 8.0\n",
      "Se multiplica num1 por 3 y su valor es= 33.0\n",
      "Se divide num2 por 2 y su valor es= 4.0\n"
     ]
    }
   ],
   "source": [
    "#Aca se crea las variables num1, num2 y luego le asigno los operadores y se imprime por pantalla linea por linea el resultado de \n",
    "#cada operacion \n",
    "num1 = float(input(f\"Cual es el valor de num1:\"))\n",
    "num2 = float(input(f\"Cual es el valor de num2:\"))\n",
    "num1 += 1\n",
    "print (f\"Se incrementa a num1 su valor a 1= {num1} \")\n",
    "num2 -= 2\n",
    "print (f\"Se disminuye a num2 su valor en 2= {num2}\")\n",
    "num1 *= 3\n",
    "print (f\"Se multiplica num1 por 3 y su valor es= {num1}\")\n",
    "num2 /=2\n",
    "print (f\"Se divide num2 por 2 y su valor es= {num2}\")"
   ]
  }
 ],
 "metadata": {
  "anaconda-cloud": {},
  "kernelspec": {
   "display_name": "Python 3 (ipykernel)",
   "language": "python",
   "name": "python3"
  },
  "language_info": {
   "codemirror_mode": {
    "name": "ipython",
    "version": 3
   },
   "file_extension": ".py",
   "mimetype": "text/x-python",
   "name": "python",
   "nbconvert_exporter": "python",
   "pygments_lexer": "ipython3",
   "version": "3.11.7"
  }
 },
 "nbformat": 4,
 "nbformat_minor": 4
}
