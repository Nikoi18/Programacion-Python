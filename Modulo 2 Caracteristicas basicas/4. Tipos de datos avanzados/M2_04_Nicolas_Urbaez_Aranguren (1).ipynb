{
 "cells": [
  {
   "cell_type": "markdown",
   "metadata": {},
   "source": [
    "# Ejercicios Modulo 2. Tipos avanzados\n",
    "\n",
    "Consideraciones a tener en cuenta: \n",
    "\n",
    "* Guardar este documento con el siguiente formato para su entrega: __M2_04_nombre_apellido1_apellido2__\n",
    "* Realizar los ejercicios con las herramientas vistas en las sesiones. Aún no hemos llegado a condicionales ni bucles\n",
    "* Comentar el código\n",
    "* Utilizar nombres de variables apropiados, si vais a guardar una nota, llamar a esa variable nota, no n o x"
   ]
  },
  {
   "cell_type": "markdown",
   "metadata": {},
   "source": [
    "## Ejercicios de tipos avanzados"
   ]
  },
  {
   "cell_type": "markdown",
   "metadata": {},
   "source": [
    "**1) Trabajemos con listas y tuplas**\n",
    "* Crea una lista y una tupla que contenga strings (al menos 3 elementos). Tematica libre, sobre lo que quieras, vehiculos, comida, música, etc.\n",
    "* Muestra la lista y la tupla\n",
    "* Muestra el 2º elemento de la lista y el penúltimo de la tupla\n",
    "* Modifica (si se puede) algún elemento de la lista y de la tupla. Y mostrar el resultado\n",
    "* Muestra el tamaño de la lista y de la tupla\n",
    "* Realiza una búsqueda de un elemento dentro de la lista y de la tupla. Mostrar si devuelve True o False\n",
    "* Añade (si se puede) algún elemento a la lista y a la tupla. Mostrar de nuevo la lista y la tupla para verificar si se ha realizado correctamente la acción.\n",
    "* Borra o elimina (si se puede) el contenido de la lista y de la tupla. Mosstrar de nuevo la lista y la tupla para verificar si se ha realizado correctamente la acción\n",
    "\n"
   ]
  },
  {
   "cell_type": "code",
   "execution_count": null,
   "metadata": {},
   "outputs": [],
   "source": [
    "lista = [\"nombre\", \"apellido\", \"edad\"] #creo una lista\n",
    "tupla = (\"nombre\", \"apellido\", \"edad\") #creo una tupla\n",
    "print (lista, tupla)                   #imprimo lista y tupla\n",
    "print (lista[1], tupla[1])             #imprimo el 2do elemento de la lista y el penultimo de tupla\n",
    "lista [0] = \"apellido\"                 #modifique el indice 0 de la lista y coloque otro str apellido\n",
    "tupla = ()                             #como no se puede editar o modificar una tupla la limpie :D! sobre escribi otra nueva \n",
    "print (lista, tupla)\n",
    "print (len(lista), len(tupla))         #imprime en pantalla la cantidad de variable que hay en lista y tupla\n",
    "buscar = \"apellido\" in lista           #le indico que busque si hay un apellido en la lista siendo True su respuesta\n",
    "buscar2 = \"edad\" in tupla              #le indique que busque edad, como la tupla esta vacia me da false\n",
    "print (buscar, buscar2)\n",
    "lista.append (\"altura\")                 #agrego una variable a la lista colocandose de ultima posicion\n",
    "tupla = (\"altura\", \"altura\")           #como no se puede modificar, editar una tupla aca sobreescribo la anterior con nueva variables\n",
    "print (lista, tupla)\n",
    "lista.remove (\"apellido\")              #aca elimino una variable a la lista llamada apellido\n",
    "tupla = ()                             #aca limpio nuevamente la tupla o la sobreescribo por una tupla en planco\n",
    "print (lista, tupla)\n",
    "\n",
    "\n"
   ]
  },
  {
   "cell_type": "markdown",
   "metadata": {},
   "source": [
    "**2) Trabajemos con sets y diccionarios**\n",
    "* Crea una set y un diccionario que contengan strings (al menos 3 elementos en el caso del set y 3 conjuntos de clave:valor en el caso del diccionario). Tematica libre, sobre lo que quieras, vehiculos, comida, música, etc.\n",
    "* Muestra el set y el diccionario\n",
    "* Muestra (si se puede) el 2º elemento del set y el valor del primer clave-valor del diccionario\n",
    "* Modifica (si se puede) algún elemento del set o del diccionario. Y mostrar el resultado\n",
    "* Muestra el tamaño del set y del diccionario\n",
    "* Realiza una búsqueda de un elemento dentro del set y dentro del diccionario. Mostrar si devuelve True o False\n",
    "* Añade (si se puede) algún elemento al set y algun clave-valor al diccionario. Mostrar de nuevo el set y el diccionario para verificar si se ha realizado correctamente la acción.\n",
    "* Borra o elimina (si se puede) el contenido del set y del diccionario. Mosstrar de nuevo el set y el diccionario para verificar si se ha realizado correctamente la acción\n",
    "\n"
   ]
  },
  {
   "cell_type": "code",
   "execution_count": null,
   "metadata": {},
   "outputs": [],
   "source": [
    "alumno = {\"Nicolas\", \"nombre\", \"apellido\"} #creo una set\n",
    "alumnos ={                             #creo un diccionario dentro de otro\n",
    "    \"informatica\" : {\n",
    "    \"nombre\" : \"nicolas\",\n",
    "    \"apellido\" : \"urbaez\",\n",
    "    \"edad\" : 32\n",
    "    },\n",
    "    \"electronica\" : {\n",
    "    \"nombre\" : \"alberto\",\n",
    "    \"apellido\" : \"uren\",\n",
    "    \"edad\" : 33\n",
    "    }}\n",
    "print (alumno) \n",
    "print (alumnos)\n",
    "print (alumnos [\"informatica\"][\"nombre\"]) #muestra en pantalla el primer valor clave-valor de informarica (con los set no se puede acceder\n",
    "# a los elementos ya que no tienen indice\n",
    "alumno.add (\"edad\") #ya que no se puede modificar un set lo estoy ampliando\n",
    "modifico = {        #creo  un diccionario aparte para usarlo mas adelante\n",
    "    \"edad\" : 20\n",
    "}\n",
    "alumnos[\"informatica\"].update (modifico)  #modifico el diccionario alumnos con el anterior creado, cambio la edad \n",
    "print (alumno)\n",
    "print (alumnos)\n",
    "print (len(alumno))  #muestra el tamaño de set\n",
    "print (len(alumnos)) #muestra el tamaño de diccionario\n",
    "print (\"2\" in alumno) #busca si existe 2 en set\n",
    "print (\"informatica\" in alumnos) #busca si existe informatica en el diccionario\n",
    "alumno.add (\"aula\")\n",
    "alumnos [\"informatica\"][\"aula\"] = 2 #se le agrega una clave=valor nuevo\n",
    "print (alumno)\n",
    "print (alumnos)\n",
    "alumno.remove (\"Nicolas\") #elimino un elemento de set\n",
    "alumno.remove (\"nombre\")\n",
    "alumno.remove (\"apellido\")\n",
    "alumno.remove (\"aula\")\n",
    "alumno.remove (\"edad\")\n",
    "alumnos.pop (\"electronica\") #elimino el diccionario electronica\n",
    "print (alumno) #set queda vacio ya que elimine todo su contenido\n",
    "print (alumnos)\n"
   ]
  },
  {
   "cell_type": "markdown",
   "metadata": {},
   "source": [
    "**3) Realizar un programa que pida al usuario 3 números que pueden ser flotantes (no es necesario realizar bucles aún, podemos repetir el código), estos números se deberán introducir en una lista. Cuando se haya finalizado la introducción de los datos, se mostrará el sumatorio de toda la lista. Guardar el sumatorio en una variable que se llame \"sumatorio\"**\n",
    "\n",
    "*Ayuda: Existe una función llamada sum(lista) ¡Pruébalo!*"
   ]
  },
  {
   "cell_type": "code",
   "execution_count": null,
   "metadata": {},
   "outputs": [],
   "source": [
    "#se crea tres variables con intruccion de floar del usuario, liego lo coloca en una lista, luego procede sumar\n",
    "#lo que hay adentro de la lista y por ultimo procede en imprimir en pantalla\n",
    "primero = float(input(\"Introduce el primer numero: \"))\n",
    "segundo = float(input(\"Introduce el segundo numero: \"))\n",
    "tercero = float(input(\"Introduce el tercer numero: \"))\n",
    "lista = [primero, segundo, tercero]   \n",
    "sumatorio = sum(lista)\n",
    "print (sumatorio)"
   ]
  },
  {
   "cell_type": "markdown",
   "metadata": {},
   "source": [
    "**4) Sobre el ejercicio anterior, queremos mostrar la media aritmética de los elementos de esa lista. Indicar la instrucción necesaria para obtenerla.**\n",
    "\n",
    "*En este caso sabemos que el número de elementos que ha introducido el usuario es 3, pero en otra ocasión podría ser diferente, por lo tanto, no hagáis referencia al número 3 en ningún sitio*"
   ]
  },
  {
   "cell_type": "code",
   "execution_count": null,
   "metadata": {},
   "outputs": [],
   "source": [
    "# aca creo una variable llamada media y que me diga la cantidad de elementos que hay dentro de la lista\n",
    "#sabiendo el resultado creo una variable dividiendo la variable sumatorio por la variable media\n",
    "#dando como resultado la media aritmetica :D!\n",
    "media = len (lista)\n",
    "resultado = sumatorio / media\n",
    "print (\"La media del ejercicio anterior es: {}\".format(resultado))\n"
   ]
  },
  {
   "cell_type": "markdown",
   "metadata": {},
   "source": [
    "**5) Dada la siguiente matriz de notas (una matriz es una lista de listas anidadas) se observa que cada fila es un listado de notas de un alumno, donde en la última posición de cada lista se encuentra el sumatorio de todas las notas anteriores de esa lista. Pero apreciamos que hay varios errores en los sumatorios de varios alumnos, utilizar la técnica de slicing para acceder a estas posiciones y modificar los valores erroneos de la forma más automatizada posible.**\n",
    "\n",
    "* No vale poner directamente los valores:\n",
    "```python\n",
    "notas[1][3] = 60\n",
    "notas[3][3] = 120\n",
    "```\n",
    "* Hay que buscar una forma automatizada de acceder y modificar esos valores"
   ]
  },
  {
   "cell_type": "code",
   "execution_count": null,
   "metadata": {},
   "outputs": [],
   "source": [
    "notas = [ \n",
    "    [10, 10, 10, 30],\n",
    "    [20, 20, 20, 70],\n",
    "    [30, 30, 30, 90],\n",
    "    [40, 40, 40, 130]\n",
    "]\n",
    "print (notas)\n",
    "print (notas[1])\n",
    "uno = int(input(\"Introducir la suma correcta de la lista [20+20+20] de notas:\"))\n",
    "notas [1][3] = uno\n",
    "print (notas[1])\n",
    "print (notas)\n",
    "dos = int(input(\"Introducir la suma correcta de la lista [40+40+40] de notas:\"))\n",
    "notas [3][3] = dos\n",
    "print (notas[3])\n",
    "print (notas)\n"
   ]
  },
  {
   "cell_type": "markdown",
   "metadata": {},
   "source": [
    "**6) Supongamos que obtenemos una cadena de texto corrupta, esta al revés. Esta cadena contiene el nombre y el año de nacimiento de una persona. Formatear dicha cadena para obtener el siguiente formato:**\n",
    "\n",
    "* Empleado ***Nombre*** ***Apellido*** nacido en el año ***Año***\n",
    "\n",
    "*Pista: Para invertir el orden una cadena usando técnicas de slicing se puede utilizar un tercer índice -1: cadena[::-1]*\n"
   ]
  },
  {
   "cell_type": "code",
   "execution_count": null,
   "metadata": {},
   "outputs": [],
   "source": [
    "#se conto cuantos caracteres contiene la variable cadena, luego cree la variable apellido, nombre, año\n",
    "#dandole el valor de acuerdo el indice luego se volteo cada variable\n",
    "#luego se imprime el resultado con el orden y las letras correctas\n",
    "cadena = \"zereP solraC,5891\"\n",
    "#cadena[::-1]\n",
    "apellido = cadena [0:5][::-1]\n",
    "nombre = cadena [6:12] [::-1]\n",
    "fecha = cadena [-4:] [::-1]\n",
    "print (\"El Empleado\", nombre, apellido, \"naciedo en el año\", fecha)\n",
    "\n"
   ]
  },
  {
   "cell_type": "markdown",
   "metadata": {},
   "source": [
    "**7) Practiquemos con conjuntos:**\n",
    "* Crea un conjunto llamado mamíferos que tenga los elementos Gato, León, Caballo, Ballena y Tortuga\n",
    "* Crea un conjunto llamado peces que tenga los elementos Ballena y Sardina\n",
    "* Borra la Tortuga del conjunto mamiíferos\n",
    "* Añade el Pez Payaso al conjunto peces\n",
    "* Imprime los conjuntos por pantalla\n",
    "* Imprime por pantalla los elementos que se encuentren en ambos conjuntos, es decir, que sean mamíferos y peces"
   ]
  },
  {
   "cell_type": "code",
   "execution_count": null,
   "metadata": {},
   "outputs": [],
   "source": [
    "#se crea dos 2 set, en el set mamiferos eliminamo el contenido \"tortuga\"\n",
    "#luego en el set peces agregamo \"pez payaso\" imprimimos en pantalla\n",
    "#luego se muestra lo que se comparte en ambos set en este caso fue Ballena\n",
    "mamiferos = {\"Gato\", \"Leon\", \"Caballo\", \"Ballena\", \"Tortuga\"}\n",
    "peces = {\"Ballena\", \"Sardina\"}\n",
    "#print (mamiferos)\n",
    "#print (peces)\n",
    "mamiferos.remove(\"Tortuga\")\n",
    "print (mamiferos)\n",
    "peces.add(\"Pez Payaso\")\n",
    "print (peces)\n",
    "print (peces & mamiferos)"
   ]
  },
  {
   "cell_type": "markdown",
   "metadata": {},
   "source": [
    "**8) Practiquemos con diccionarios. Tenemos un diccionario que contiene una serie de productos. Realicemos las tres siguientes tareas:**\n",
    "* Ver productos\n",
    "* Subir el precio a todos los productos\n",
    "* Volver a ver todos los precios (para comprobar que el precio ha subido)\n",
    "\n",
    "Al inicio del programa, se mostrarán todos los productos, tienen que aparecer ordenados con el siguiente formato: <br><code>1 - Arduino - 30€</code><br>\n",
    "Posteriormente, a todos los productos se aplicará una subida del 50% a todos los precios de productos.<br>\n",
    "Y finalmente volveremos a mostrar todos los productos para comprobar la subida de precios."
   ]
  },
  {
   "cell_type": "code",
   "execution_count": 1,
   "metadata": {},
   "outputs": [
    {
     "name": "stdout",
     "output_type": "stream",
     "text": [
      "Precios viejos:\n",
      "1 - Arduino - 30€\n",
      "2 - RPi - 70€\n",
      "3 - Print 3D - 300€\n",
      "Subida de precio del 50%\n",
      "1 - Arduino - 45.0€\n",
      "2 - RPi - 105.0€\n",
      "3 - Print 3D - 450.0€\n"
     ]
    }
   ],
   "source": [
    "productos = { 'id':[1,2,3], \n",
    "             'nombre':['Arduino', 'RPi', 'Print 3D'], \n",
    "             'precio': [30, 70, 300] \n",
    "            }\n",
    "#cree varias variables con los datos que estaban en el diccionrio y dentro de las litas\n",
    "#usea el .format para formatear la linea y colocar las descripcion de los productos\n",
    "#volvi usar format para poder modificar los precios multiplicando los precios por 0.5 y posteriormente sumandolos\n",
    "#asi me dio el 50% de los productos sin editar los precios de las lista original\n",
    "\n",
    "uno = (productos[\"id\"][0])\n",
    "uno_1 = (productos [\"nombre\"] [0])\n",
    "uno_2 = (productos [\"precio\"] [0])\n",
    "dos = (productos[\"id\"][1])\n",
    "dos_1 = (productos[\"nombre\"][1])\n",
    "dos_2 = (productos[\"precio\"][1])\n",
    "tres = (productos [\"id\"][2])\n",
    "tres_1 = (productos [\"nombre\"][2])\n",
    "tres_2 = (productos [\"precio\"][2])\n",
    "print (\"Precios viejos:\")\n",
    "print (\"{} - {} - {}€\".format(uno, uno_1, uno_2))\n",
    "print (\"{} - {} - {}€\".format(dos, dos_1, dos_2))\n",
    "print (\"{} - {} - {}€\".format(tres, tres_1, tres_2))\n",
    "print (\"Subida de precio del 50%\")\n",
    "au = 0.5\n",
    "print (\"{} - {} - {}€\".format(uno, uno_1, uno_2*au + uno_2))\n",
    "print (\"{} - {} - {}€\".format(dos, dos_1, dos_2*au + dos_2))\n",
    "print (\"{} - {} - {}€\".format(tres, tres_1, tres_2*au + tres_2))\n",
    "\n"
   ]
  }
 ],
 "metadata": {
  "anaconda-cloud": {},
  "kernelspec": {
   "display_name": "Python 3 (ipykernel)",
   "language": "python",
   "name": "python3"
  },
  "language_info": {
   "codemirror_mode": {
    "name": "ipython",
    "version": 3
   },
   "file_extension": ".py",
   "mimetype": "text/x-python",
   "name": "python",
   "nbconvert_exporter": "python",
   "pygments_lexer": "ipython3",
   "version": "3.11.7"
  }
 },
 "nbformat": 4,
 "nbformat_minor": 4
}
