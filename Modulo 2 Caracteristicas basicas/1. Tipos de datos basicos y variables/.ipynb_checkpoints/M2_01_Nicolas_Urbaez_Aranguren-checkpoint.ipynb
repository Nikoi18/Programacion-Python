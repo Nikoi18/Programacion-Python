{
 "cells": [
  {
   "cell_type": "markdown",
   "id": "0703d483-92bc-4da4-99b6-39874f460476",
   "metadata": {},
   "source": [
    "# Ejercicios de tipos de variables\n",
    "###  1. Indicaremos un ejemplo de un tipo de dato: \n",
    "## Entero:\n"
   ]
  },
  {
   "cell_type": "code",
   "execution_count": null,
   "id": "b1871bcb-5c1e-4d87-be79-85d56d0b10db",
   "metadata": {},
   "outputs": [],
   "source": [
    "dos = 2 #creo una variable llamada dos y le asigno un valor de numero entero 2"
   ]
  },
  {
   "cell_type": "code",
   "execution_count": null,
   "id": "8bcdd51c-87a1-48fb-90b2-cc83ee59591c",
   "metadata": {},
   "outputs": [],
   "source": [
    "uno = 1 #creo otra variable llamada uno y le asigno un valor de numero entero 1"
   ]
  },
  {
   "cell_type": "code",
   "execution_count": null,
   "id": "5b07bb7e-c691-4922-9a56-a3f2ee681aea",
   "metadata": {},
   "outputs": [],
   "source": [
    "resultado = dos + uno #creo otra variable llamada resultado y le indico que me sume la variable dos mas la variable uno"
   ]
  },
  {
   "cell_type": "code",
   "execution_count": null,
   "id": "eee36852-cd4f-415f-8105-ceca703f7e80",
   "metadata": {},
   "outputs": [],
   "source": [
    "print (resultado) #imprime en pantalla el resultado de la variable resultado dando como resultado un tipo de dato entero en este caso el 3"
   ]
  },
  {
   "cell_type": "markdown",
   "id": "fe05a46f-e8df-471b-8d54-a0bdddfc407a",
   "metadata": {},
   "source": [
    "## Flotante:"
   ]
  },
  {
   "cell_type": "code",
   "execution_count": null,
   "id": "676461c5-72f9-4fea-8c36-58383e809814",
   "metadata": {},
   "outputs": [],
   "source": [
    "diez = 10 #creo una variable llamada diez con un valor de numero entero 10"
   ]
  },
  {
   "cell_type": "code",
   "execution_count": null,
   "id": "17074bf7-ff8c-426c-a1fb-6ecb3de12224",
   "metadata": {},
   "outputs": [],
   "source": [
    "tres = 3 #creo una variable llamada tres con un valor de numero entero 3"
   ]
  },
  {
   "cell_type": "code",
   "execution_count": null,
   "id": "1e190b4e-c0a2-4fae-b66e-78f2dbdb175b",
   "metadata": {},
   "outputs": [],
   "source": [
    "resultado = diez / tres #creo otra variable que me indique que divida la variable diez entre la variable tres"
   ]
  },
  {
   "cell_type": "code",
   "execution_count": null,
   "id": "d8a969a8-10ff-4860-b0b4-f93aee5676f5",
   "metadata": {},
   "outputs": [],
   "source": [
    "print (resultado) #imprime que me muestre en pantalla el resultado de la variable resultado, dando coomo resultado un tipo de dato flotante"
   ]
  },
  {
   "cell_type": "markdown",
   "id": "f4b91705-a729-46d5-a39a-947c89c57b9c",
   "metadata": {},
   "source": [
    "## String:"
   ]
  },
  {
   "cell_type": "code",
   "execution_count": null,
   "id": "a528941d-f0c6-4727-870e-7be49abb407e",
   "metadata": {},
   "outputs": [],
   "source": [
    "nombre = \"Nicolas\" #creo una variable llamada nombre y le asigno un valor str llamada Nicolas"
   ]
  },
  {
   "cell_type": "code",
   "execution_count": null,
   "id": "b07c1018-d5cb-456f-b0b9-59108e0bbf5d",
   "metadata": {},
   "outputs": [],
   "source": [
    "apellido = \"Urbaez\" #creo una variable llamada apellido y le asigno un valor str llamada Urbaez"
   ]
  },
  {
   "cell_type": "code",
   "execution_count": null,
   "id": "51abaaa5-f6b3-4e20-8999-8192ffe1b2c2",
   "metadata": {},
   "outputs": [],
   "source": [
    "nombre_completo = nombre+\" \"+apellido #creo una variable llamada nombre_completo le indico que me sume o contatenar la variable nombre mas un espacio\n",
    "#que esta entre \" \" y la variabñle apellido"
   ]
  },
  {
   "cell_type": "code",
   "execution_count": null,
   "id": "d322d821-ddea-400c-a00f-7f66ad8fe324",
   "metadata": {},
   "outputs": [],
   "source": [
    "print (nombre_completo) #me imprime la variable nombre_completo conun espacio entre cada variable str"
   ]
  },
  {
   "cell_type": "markdown",
   "id": "aad2bd8b-3898-4d96-bdaf-b3f726bfa0b6",
   "metadata": {},
   "source": [
    "# Booleano:"
   ]
  },
  {
   "cell_type": "code",
   "execution_count": null,
   "id": "991ec967-a1e4-4319-abfb-28f56065a247",
   "metadata": {},
   "outputs": [],
   "source": [
    "x=1 #creo una variable llamada x, y le doy un valor entero 1"
   ]
  },
  {
   "cell_type": "code",
   "execution_count": null,
   "id": "b6d9f75f-e32f-4e75-a223-5f6ff95f381b",
   "metadata": {},
   "outputs": [],
   "source": [
    "y=2 #creo otra variable llamada y, le doy un valor entero 2 "
   ]
  },
  {
   "cell_type": "code",
   "execution_count": null,
   "id": "8c3da8e8-e7f2-4164-a3bc-f9361130834f",
   "metadata": {},
   "outputs": [],
   "source": [
    "x==y #le pregunto que x es igual a y me da un resultado como falso"
   ]
  },
  {
   "cell_type": "markdown",
   "id": "adb88249-4cb0-44c1-8e48-34181d87af22",
   "metadata": {},
   "source": [
    "# Ejercicios de tipos de variables\n",
    "## 2.Crearemos dos variables que se llamen nombre y apellido, en ellas introduce tu nombre y apellidos y luego prueba lo siguiente e indica el resultado:\n",
    "nombre + apellido\n",
    "nombre + apellido + \".\"\n",
    "nombre * 3"
   ]
  },
  {
   "cell_type": "code",
   "execution_count": 2,
   "id": "ec33315a-c206-4154-9d3e-b42cfcd5a111",
   "metadata": {},
   "outputs": [],
   "source": [
    "nombre = \"Nicolas\" #creo una variable llamada nombre que contiene un str Nicolas"
   ]
  },
  {
   "cell_type": "code",
   "execution_count": 3,
   "id": "e591f870-4712-4d66-81fd-746844a00c65",
   "metadata": {},
   "outputs": [],
   "source": [
    "apellido = \"Urbaez\" #creo una variable llamada apellido que contiene un str Urbaez"
   ]
  },
  {
   "cell_type": "code",
   "execution_count": 4,
   "id": "3f2d8f70-553d-400b-bbbc-b6789cfdc4f7",
   "metadata": {},
   "outputs": [
    {
     "name": "stdout",
     "output_type": "stream",
     "text": [
      "NicolasUrbaez\n"
     ]
    }
   ],
   "source": [
    "print (nombre + apellido) #muestro en pantalla la concatenacion de nombre+apellido dabdo comoresultado NicolasUrbaez"
   ]
  },
  {
   "cell_type": "code",
   "execution_count": null,
   "id": "09894d9f-a659-4980-a343-8adb962f617b",
   "metadata": {},
   "outputs": [],
   "source": [
    "print (nombre + apellido + \".\") #muestro en pantalla la concatenacion de nombre+apellido+\".\" monstrando como resultado lo mismo\n",
    "#que la anterior pero le agrega otr str que seria un ."
   ]
  },
  {
   "cell_type": "code",
   "execution_count": null,
   "id": "caf0bf2b-457f-4f47-801e-6bc3179cfb03",
   "metadata": {},
   "outputs": [],
   "source": [
    "print (nombre*3) #muestro en pantalla la variable nombre 3 veces ya que multiplica con el signo * la variable nombre 3 veces"
   ]
  },
  {
   "cell_type": "markdown",
   "id": "87185101-ccee-438b-a460-923f5e9e98c8",
   "metadata": {},
   "source": [
    "# 3. Retoma el ejercicio anterior, creo una variable que se llame nombreCompleto que una tu nombre y tu apellido con un espacio en el medio.\n",
    "# Sobre esta variable, ¿eres capaz a extraer tu nombre utilizando slicing?"
   ]
  },
  {
   "cell_type": "code",
   "execution_count": 15,
   "id": "e190c23f-7905-4127-9e75-c085b9cb1187",
   "metadata": {},
   "outputs": [
    {
     "name": "stdout",
     "output_type": "stream",
     "text": [
      "Nicolas Urbaez\n"
     ]
    }
   ],
   "source": [
    "nombre = \"Nicolas\" #creo una variable str llamada Nicolas\n",
    "apellido = \"Urbaez\" #creo una variable str llamada Urbaez\n",
    "nombre_completo = nombre [0:7] +\" \"+ apellido [0:6] #creo una variable llamada nombre_completo y le indico que nombre es igual al indice 0 hasta el 7\n",
    "#nas una str que esta \" \" <con 1 espacio mas el indice de la variable apellido de 0 a 6\n",
    "print (nombre_completo) #muestra en pantalla el nombre completo mas el espacio que se agrego con str "
   ]
  },
  {
   "cell_type": "code",
   "execution_count": null,
   "id": "fccd3b0f-f55b-4e4a-8236-0b643c16f13a",
   "metadata": {},
   "outputs": [],
   "source": []
  },
  {
   "cell_type": "code",
   "execution_count": null,
   "id": "db843373-1bca-4ac5-b950-17d25c563299",
   "metadata": {},
   "outputs": [],
   "source": []
  }
 ],
 "metadata": {
  "kernelspec": {
   "display_name": "Python [conda env:base] *",
   "language": "python",
   "name": "conda-base-py"
  },
  "language_info": {
   "codemirror_mode": {
    "name": "ipython",
    "version": 3
   },
   "file_extension": ".py",
   "mimetype": "text/x-python",
   "name": "python",
   "nbconvert_exporter": "python",
   "pygments_lexer": "ipython3",
   "version": "3.12.7"
  }
 },
 "nbformat": 4,
 "nbformat_minor": 5
}
