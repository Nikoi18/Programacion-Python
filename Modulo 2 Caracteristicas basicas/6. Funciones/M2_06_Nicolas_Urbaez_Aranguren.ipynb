{
 "cells": [
  {
   "cell_type": "markdown",
   "metadata": {},
   "source": [
    "# Ejercicios Modulo 2. Funciones\n",
    "\n",
    "Consideraciones a tener en cuenta: \n",
    "\n",
    "* Guardar este documento con el siguiente formato para su entrega: __M2_06_nombre_apellido1_apellido2__\n",
    "* Realizar los ejercicios con las herramientas vistas en las sesiones. \n",
    "* Comentar el código\n",
    "* Utilizar nombres de variables apropiados, si vais a guardar una nota, llamar a esa variable nota, no n o x"
   ]
  },
  {
   "cell_type": "markdown",
   "metadata": {},
   "source": [
    "**1) Realiza una función que devuelva el área de un rectángulo a partir de su base y su altura. La función se llamará area_rectangulo(). La base y la altura se pedirán al usuario por teclado.**\n",
    "\n",
    "*Nota: El área de un rectángulo se obtiene al multiplicar la base por la altura.*"
   ]
  },
  {
   "cell_type": "code",
   "execution_count": null,
   "metadata": {},
   "outputs": [],
   "source": [
    "def area_rectangulo(num1,num2):\n",
    "    area = num1*num2\n",
    "    return area\n",
    "\n",
    "print (\"Calcular area de un rectangulo\")\n",
    "num1 = float(input(\"Introduzca la base\"))\n",
    "num2 = float(input(\"Introduzca la altura\"))\n",
    "area = area_rectangulo(num1,num2)\n",
    "print (\"El area del rectangulo es:\",area)\n",
    "\n",
    "    "
   ]
  },
  {
   "cell_type": "markdown",
   "metadata": {},
   "source": [
    "**2) Realiza una función que devuelva el área de un círculo a partir de un radio. La función se llamará area_circulo(). El radio se pedirá al usuario por teclado:**\n",
    "\n",
    "Nota: El área de un círculo se obtiene al elevar el radio a dos y multiplicando el resultado por el número pi. Puedes utilizar el valor 3.14159 como pi o importarlo del módulo math:\n",
    "```python\n",
    "import math\n",
    "print(math.pi)\n",
    "> 3.1415...\n",
    "```"
   ]
  },
  {
   "cell_type": "code",
   "execution_count": null,
   "metadata": {},
   "outputs": [],
   "source": [
    "def area_circulo(num1):\n",
    "    radio = num1**2*3.14\n",
    "    return radio\n",
    "    \n",
    "print (\"Calcular area de un circulo:\")\n",
    "num1 = float(input(\"Coloca el radio\"))\n",
    "area = area_circulo(num1)\n",
    "print (\"El area del circulo es:\",area)\n",
    "\n"
   ]
  },
  {
   "cell_type": "markdown",
   "metadata": {},
   "source": [
    "**3) Realiza una función llamada lee_numero() que solicite y lea por teclado un numero. Utilizar esta función para pedirle al usuario 3 números. Luego pasarle estos 3 números a una función que se llame mayor() que tenga 3 parámetros y que devuelva el número mayor de los 3:**"
   ]
  },
  {
   "cell_type": "code",
   "execution_count": null,
   "metadata": {},
   "outputs": [],
   "source": [
    "def lee_numero ():\n",
    "    lee = int(input(\"Coloque un numero\"))\n",
    "    return lee\n",
    "def mayor (uno,dos,tres):\n",
    "    mayor = max(uno,dos,tres)\n",
    "    return mayor\n",
    "uno = lee_numero()\n",
    "dos = lee_numero()\n",
    "tres = lee_numero()\n",
    "print (\"Usted a introducido:\",uno,dos,tres)\n",
    "maximo = mayor (uno,dos,tres) \n",
    "print (\"El numero mayor que usted ha introducido es:\",maximo)"
   ]
  },
  {
   "cell_type": "markdown",
   "metadata": {},
   "source": [
    "**4) Realizar una función llamada imc(). Esta función nos proporcionará el estado nutricional de una persona. Esto es; la clasificación de su índice de masa corporal (IMC), según la tabla proporcionada. La función recibirá el peso (en kilos) y la talla de una persona (en metros con dos decimales), datos a partir de los cuales se puede calcular el IMC cómo:**\n",
    "\n",
    "IMC = peso / (altura * altura)\n",
    "\n",
    "Clasificación: IMC (Kg/m^2)\n",
    "* Bajo peso:  < 18.50\n",
    "* Normal:      [18.50, 25.00)\n",
    "* Sobrepeso: >= 25.00\n",
    "* Obesidad: >= 30.00"
   ]
  },
  {
   "cell_type": "code",
   "execution_count": null,
   "metadata": {},
   "outputs": [],
   "source": [
    "def imc (peso,talla):\n",
    "    imc = peso / (talla*talla)\n",
    "    print (\"Su clasificacion es:\")\n",
    "    if peso > 18.50 <25.00:\n",
    "        print (\"Normal\")\n",
    "    elif peso < 18.50:\n",
    "        print (\"Bajo Peso\")\n",
    "    elif peso >= 25.00:\n",
    "        print (\"Sobre Peso\")\n",
    "    elif pesos >= 30.00:\n",
    "        print (\"Obesidad\")\n",
    "    return imc\n",
    "print (\"Estado nutricional\")\n",
    "peso = float(input(\"introduzca el peso\"))\n",
    "talla = float(input(\"Introduzca la talla\"))\n",
    "clasificacion = imc (peso,talla)       \n",
    "print (\"Su IMC es:\",clasificacion)"
   ]
  },
  {
   "cell_type": "markdown",
   "metadata": {},
   "source": [
    "**5) ¿Recuerdas este programa de la unidad de control de flujo?**\n",
    "\n",
    "Realiza un programa que realice las siguientes tareas:\n",
    "\n",
    "* Paso 1) solicite al usuario una contraseña y la guarde en una variable\n",
    "* Paso 2) pida al usuario introducir la contraseña para loguearse\n",
    "    * si la contraseña es correcta mostramos \"Login correcto\"\n",
    "    * si la contraseña no es correcta se le tendrá que mostrar un mensaje de \"Login fallido. Intento 1\", donde 1 será una variable contador que irá incrementandose hasta llegar a 5. En ese punto reiniciamos el programa y volveremos al Paso 1\n",
    "\n",
    "__Reestructura el ejercicio dividiéndolo al máximo en funciones.__"
   ]
  },
  {
   "cell_type": "code",
   "execution_count": 3,
   "metadata": {},
   "outputs": [
    {
     "name": "stdin",
     "output_type": "stream",
     "text": [
      "Crea una contraseña 10\n",
      "Ingrese su contraseña 1\n"
     ]
    },
    {
     "name": "stdout",
     "output_type": "stream",
     "text": [
      "Login incorrecto\n",
      "Intento N°: 1\n"
     ]
    },
    {
     "name": "stdin",
     "output_type": "stream",
     "text": [
      "Ingrese su contraseña 1\n"
     ]
    },
    {
     "name": "stdout",
     "output_type": "stream",
     "text": [
      "Login incorrecto\n",
      "Intento N°: 2\n"
     ]
    },
    {
     "name": "stdin",
     "output_type": "stream",
     "text": [
      "Ingrese su contraseña 10\n"
     ]
    },
    {
     "name": "stdout",
     "output_type": "stream",
     "text": [
      "Login correcto\n"
     ]
    }
   ],
   "source": [
    "def contrasena ():\n",
    "    contra = input (\"Crea una contraseña\")\n",
    "    return contra\n",
    "def logueo ():\n",
    "    x = input (\"Ingrese su contraseña\")\n",
    "    return x\n",
    "    \n",
    "contra = contrasena()\n",
    "contador = 0\n",
    "while contador <= 4 :\n",
    "    #login = input (\"Ingrese su contraseña:\",)\n",
    "    login = logueo ()\n",
    "    if contra == login:\n",
    "        print (\"Login correcto\")\n",
    "        break\n",
    "    elif contra != login:\n",
    "        print (\"Login incorrecto\")\n",
    "        contador +=1\n",
    "        print (\"Intento N°:\",contador)\n",
    "        if contador == 5:\n",
    "            contador =0"
   ]
  }
 ],
 "metadata": {
  "anaconda-cloud": {},
  "kernelspec": {
   "display_name": "Python 3 (ipykernel)",
   "language": "python",
   "name": "python3"
  },
  "language_info": {
   "codemirror_mode": {
    "name": "ipython",
    "version": 3
   },
   "file_extension": ".py",
   "mimetype": "text/x-python",
   "name": "python",
   "nbconvert_exporter": "python",
   "pygments_lexer": "ipython3",
   "version": "3.11.7"
  }
 },
 "nbformat": 4,
 "nbformat_minor": 4
}
