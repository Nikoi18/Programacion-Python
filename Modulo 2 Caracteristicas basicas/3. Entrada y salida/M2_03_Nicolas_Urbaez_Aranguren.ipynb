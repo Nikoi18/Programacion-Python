{
 "cells": [
  {
   "cell_type": "markdown",
   "metadata": {},
   "source": [
    "# Ejercicios Modulo 2. Entrada y salida de datos\n",
    "\n",
    "Consideraciones a tener en cuenta: \n",
    "\n",
    "* Guardar este documento con el siguiente formato para su entrega: __M2_03_nombre_apellido1_apellido2__\n",
    "* Realizar los ejercicios con las herramientas vistas en las sesiones. Aún no hemos llegado a condicionales ni bucles\n",
    "* Comentar el código\n",
    "* Utilizar nombres de variables apropiados, si vais a guardar una nota, llamar a esa variable nota, no n o x"
   ]
  },
  {
   "cell_type": "markdown",
   "metadata": {},
   "source": [
    "## Ejercicios de entrada y salida"
   ]
  },
  {
   "cell_type": "markdown",
   "metadata": {},
   "source": [
    "**1) Utiliza el método input() para realizar las siguientes tareas:**\n",
    "\n",
    "* Pide un número por teclado, muestra el resultado y su tipo (para conocer en que tipo de dato captura la información input())\n",
    "* Pide un número por teclado y asegurate de que capturemos la información en formato int\n",
    "* Pide un número por teclado y asegurate de que capturemos la información en formato float\n",
    "\n",
    "__Comprobar con type que los datos son del tipo correcto__"
   ]
  },
  {
   "cell_type": "code",
   "execution_count": null,
   "metadata": {},
   "outputs": [],
   "source": [
    "uno = int(input(\"Hola, introduzca un numero\"))\n",
    "print (\"Su numero es: {} y el tipo {}\".format (uno, type(uno)))\n"
   ]
  },
  {
   "cell_type": "code",
   "execution_count": null,
   "metadata": {},
   "outputs": [],
   "source": [
    "dos = int(input(\"Hola, introduzca un numero entero\"))\n",
    "print (\"Su numero es: {}, es int:{}\".format (dos, type(dos)==int))"
   ]
  },
  {
   "cell_type": "code",
   "execution_count": null,
   "metadata": {},
   "outputs": [],
   "source": [
    "# no se como hacer que cuando introduzca un numero entero no me salga decimal despues \n",
    "#cuando hice el ejercicio coloco un numero entero luego le coloca un .o y salta que es cierto\n",
    "tres = float(input(\"Hola, introduzca un numero decimal\"))\n",
    "print (\"Su numero es: {} es float:{}\".format (tres, type(tres)==float))\n"
   ]
  },
  {
   "cell_type": "markdown",
   "metadata": {},
   "source": [
    "**2) Vamos a formatear números:**\n",
    "\n",
    "* Pide un numero entero por teclado\n",
    "* Muéstralo con el formato de 5 dígitos rellenos con 0s por delante\n",
    "* Pide un número flotante por teclado\n",
    "* Muéstralo con 5 dígitos para la parte entera y 3 dígitos para la parte decimal"
   ]
  },
  {
   "cell_type": "code",
   "execution_count": null,
   "metadata": {},
   "outputs": [],
   "source": [
    "#se crea una variable donde el usuario coloca un numero entero, luego imprime por pantañña el numero \n",
    "#donde el formato nos permite usar la variable Int y luego se coloco 5 ceros por delante usando end\n",
    "numero = int(input(\"Introduzca un numero entero:\"))\n",
    "print (\"{}\".format (numero), end = \"00000\")\n",
    "numero2 = float (input(\"Introduzca un numero flotante:\"))\n",
    "print (\"{:09.03f}\".format (numero2))\n"
   ]
  },
  {
   "cell_type": "markdown",
   "metadata": {},
   "source": [
    "**3) Vamos a ponernos creativos. ¿Cuántas formas tienes de mostrar esta información?**<bR>\n",
    "<code>La altura es de 1,80 metros y el peso es de 80,135 KG</code>\n",
    "    \n",
    "Siendo la altura y el peso dos variables que se recojan con 2 inputs\n",
    "    \n",
    "__Pista: format() se puede usar de varias formas__"
   ]
  },
  {
   "cell_type": "code",
   "execution_count": 1,
   "metadata": {},
   "outputs": [
    {
     "name": "stdin",
     "output_type": "stream",
     "text": [
      "Cual es la altura:  10\n",
      "Cual es el peso:  10\n"
     ]
    },
    {
     "name": "stdout",
     "output_type": "stream",
     "text": [
      "La altura es de 10 metros y el peso es de 10KG\n",
      "La altura es de 10 metros y el peso es de 10KG\n"
     ]
    }
   ],
   "source": [
    "#Se crea dos variables luego se imprime en pantalla el texto que se desea y dentro de llaves va las variables usando .format\n",
    "#el primer format lo coloca de forma automatica de izquierda a derecha y el segundo se coloca de forma manual intrudiciendo0 y 1\n",
    "#dentro de las llaves\n",
    "altura = (input(\"Cual es la altura: \"))\n",
    "peso = (input(\"Cual es el peso: \"))\n",
    "print (\"La altura es de {} metros y el peso es de {}KG\".format(altura, peso))\n",
    "print (\"La altura es de {1} metros y el peso es de {0}KG\".format(peso, altura))\n"
   ]
  }
 ],
 "metadata": {
  "anaconda-cloud": {},
  "kernelspec": {
   "display_name": "Python 3 (ipykernel)",
   "language": "python",
   "name": "python3"
  },
  "language_info": {
   "codemirror_mode": {
    "name": "ipython",
    "version": 3
   },
   "file_extension": ".py",
   "mimetype": "text/x-python",
   "name": "python",
   "nbconvert_exporter": "python",
   "pygments_lexer": "ipython3",
   "version": "3.11.7"
  }
 },
 "nbformat": 4,
 "nbformat_minor": 4
}
