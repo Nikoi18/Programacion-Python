{
 "cells": [
  {
   "cell_type": "markdown",
   "metadata": {},
   "source": [
    "# Ejercicios Modulo 4. Unidad 3. Errores y Excepciones\n",
    "\n",
    "Consideraciones a tener en cuenta: \n",
    "\n",
    "* Guardar este documento con el siguiente formato para su entrega: __M4_03_nombre_apellido1_apellido2__\n",
    "* Realizar los ejercicios con las herramientas vistas en las sesiones. \n",
    "* Comentar el código\n",
    "* Utilizar nombres de variables apropiados, si vais a guardar una nota, llamar a esa variable nota, no n o x"
   ]
  },
  {
   "cell_type": "markdown",
   "metadata": {},
   "source": [
    "**Identificar los errores en los siguiente bloques de código y evaluarlos con excepciones especificas para evitar errores no controlados en nuestros programas. Añade mensajes explicativos para el usuario.**\n",
    "<br>_Nota: Se tienen que evaluar excepciones concretas, no hacer referencia a Exception sin más._"
   ]
  },
  {
   "cell_type": "markdown",
   "metadata": {},
   "source": [
    "**1) Código a evaluar:**"
   ]
  },
  {
   "cell_type": "code",
   "execution_count": null,
   "metadata": {},
   "outputs": [],
   "source": [
    "try: \n",
    "    numero = 7/0\n",
    "except ZeroDivisionError:\n",
    "     print(\"No se puede dividir por cero\")\n"
   ]
  },
  {
   "cell_type": "markdown",
   "metadata": {},
   "source": [
    "**2) Código a evaluar:**"
   ]
  },
  {
   "cell_type": "code",
   "execution_count": null,
   "metadata": {},
   "outputs": [],
   "source": [
    "try:\n",
    "    lista = [4, 7, 30, 23, 5]\n",
    "    lista[10]\n",
    "except IndexError:\n",
    "    print(\"Indice de lista fuera de rango\")\n"
   ]
  },
  {
   "cell_type": "markdown",
   "metadata": {},
   "source": [
    "**3) Código a evaluar:**"
   ]
  },
  {
   "cell_type": "code",
   "execution_count": null,
   "metadata": {},
   "outputs": [],
   "source": [
    "try:\n",
    "    paises = { \"españa\":\"español\", \"eeuu\":\"inglés\", \"italia\":\"italiano\" } \n",
    "    paises[\"alemania\"]\n",
    "except KeyError:\n",
    "    print(\"El pais no existe dentro de la lista\")"
   ]
  },
  {
   "cell_type": "markdown",
   "metadata": {},
   "source": [
    "**4) Localiza el error en el siguiente bloque de código.  Crea una excepción para evitar que el programa se bloquee y además explica en un mensaje al usuario la causa y/o solución:**"
   ]
  },
  {
   "cell_type": "code",
   "execution_count": null,
   "metadata": {},
   "outputs": [],
   "source": [
    "try:\n",
    "    resultado = \"2\" + 10\n",
    "except TypeError:\n",
    "    print(\"Solo se puede concatenar str y no con numero\")\n",
    "    "
   ]
  },
  {
   "cell_type": "markdown",
   "metadata": {},
   "source": [
    "**5) Realiza una función llamada agregar_sin_repetidos() que reciba una lista y un elemento. La función debe añadir el elemento al final de la lista con la condición de no repetir ningún elemento. Además si este elemento ya se encuentra en la lista se debe invocar un error de tipo ValueError que debes capturar y mostrar este mensaje en su lugar:**\n",
    "\n",
    "```\n",
    "  Error: Imposible añadir elementos duplicados => [elemento].\n",
    "```\n",
    "**Prueba a agregar los elementos 7, \"Python\" y 5 a través de la función agregar_sin_repetidos() e imprime la lista completa al finalizar.**\n",
    "\n",
    "*Pista: Puedes utilizar la sintaxis: elemento in lista*"
   ]
  },
  {
   "cell_type": "code",
   "execution_count": null,
   "metadata": {},
   "outputs": [],
   "source": [
    "def agregar_sin_repetidos():\n",
    "    try:\n",
    "        elementos = [3, 5, 10]\n",
    "        x=(int(input(\"Introduzca un numero para agregar a la lista:\")))\n",
    "        if x in elementos:\n",
    "            print(\"El numero {} que usted introdujo ya existe\".format(x))\n",
    "        else: \n",
    "            elementos.append(x)\n",
    "            print(\"Numero agregado, la lista es:\",elementos)\n",
    "    \n",
    "    except ValueError:\n",
    "        print(\"Tiene que agregar un numero entero\")\n",
    "\n",
    "agregar_sin_repetidos()\n"
   ]
  },
  {
   "cell_type": "markdown",
   "metadata": {},
   "source": [
    "**6) Busca en la documentación otra excepción que no se haya utilizado hasta ahora y realiza los siguientes pasos:**\n",
    "* Provoca el error en un código de ejemplo. \n",
    "* Una vez que las hayas provocado, contrólalas con try-except\n",
    "* Muestra al usuario la información por defecto que proporcione la excepción. Pista: as\n",
    "* Personaliza el mensaje que se le proporciona al usuario utilizando todo lo anterior"
   ]
  },
  {
   "cell_type": "code",
   "execution_count": 26,
   "metadata": {},
   "outputs": [
    {
     "name": "stdout",
     "output_type": "stream",
     "text": [
      "Calculemos la potencia para que de error\n"
     ]
    },
    {
     "name": "stdin",
     "output_type": "stream",
     "text": [
      "Introduzca varios digitos 12345\n",
      "Introduzca varios digitos 123456\n"
     ]
    },
    {
     "name": "stdout",
     "output_type": "stream",
     "text": [
      "Exceeds the limit (4300 digits) for integer string conversion; use \n",
      "sys.set_int_max_str_digits() to increase the limit\n",
      "Error\n"
     ]
    }
   ],
   "source": [
    "print(\"Calculemos la potencia para que de error\")\n",
    "try:\n",
    "    x=int(input(\"Introduzca varios digitos\"))\n",
    "    y=int(input(\"Introduzca varios digitos\"))\n",
    "    resultado=x**y\n",
    "    print(resultado)\n",
    "except ValueError:\n",
    "    print(\"\"\"Exceeds the limit (4300 digits) for integer string conversion; use \n",
    "sys.set_int_max_str_digits() to increase the limit\"\"\")\n",
    "    print(\"Error Supera el límite (4300 dígitos) \")\n",
    "\n"
   ]
  },
  {
   "cell_type": "code",
   "execution_count": 8,
   "metadata": {},
   "outputs": [
    {
     "ename": "ValueError",
     "evalue": "Exceeds the limit (4300 digits) for integer string conversion; use sys.set_int_max_str_digits() to increase the limit",
     "output_type": "error",
     "traceback": [
      "\u001b[1;31m---------------------------------------------------------------------------\u001b[0m",
      "\u001b[1;31mValueError\u001b[0m                                Traceback (most recent call last)",
      "Cell \u001b[1;32mIn[8], line 2\u001b[0m\n\u001b[0;32m      1\u001b[0m x\u001b[38;5;241m=\u001b[39m\u001b[38;5;241m80\u001b[39m\u001b[38;5;241m*\u001b[39m\u001b[38;5;241m*\u001b[39m\u001b[38;5;241m5008\u001b[39m\n\u001b[1;32m----> 2\u001b[0m \u001b[38;5;28mprint\u001b[39m(x)\n",
      "\u001b[1;31mValueError\u001b[0m: Exceeds the limit (4300 digits) for integer string conversion; use sys.set_int_max_str_digits() to increase the limit"
     ]
    }
   ],
   "source": [
    "x=80**5008\n",
    "print(x)"
   ]
  }
 ],
 "metadata": {
  "anaconda-cloud": {},
  "kernelspec": {
   "display_name": "Python 3 (ipykernel)",
   "language": "python",
   "name": "python3"
  },
  "language_info": {
   "codemirror_mode": {
    "name": "ipython",
    "version": 3
   },
   "file_extension": ".py",
   "mimetype": "text/x-python",
   "name": "python",
   "nbconvert_exporter": "python",
   "pygments_lexer": "ipython3",
   "version": "3.11.7"
  }
 },
 "nbformat": 4,
 "nbformat_minor": 4
}
